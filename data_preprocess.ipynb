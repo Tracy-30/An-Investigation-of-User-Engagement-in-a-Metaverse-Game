{
 "cells": [
  {
   "cell_type": "code",
   "execution_count": 2,
   "metadata": {},
   "outputs": [],
   "source": [
    "import pandas as pd\n",
    "import numpy as np"
   ]
  },
  {
   "cell_type": "code",
   "execution_count": 257,
   "metadata": {},
   "outputs": [],
   "source": [
    "data1 = pd.read_csv('Twitter_Data/tweets_18_19.csv')\n",
    "data2 = pd.read_csv('Twitter_Data/tweets_19_20.csv')\n",
    "data3 = pd.read_csv('Twitter_Data/tweets_20_21.csv')\n",
    "\n",
    "# data1.info()"
   ]
  },
  {
   "cell_type": "code",
   "execution_count": 258,
   "metadata": {},
   "outputs": [],
   "source": [
    "from datetime import datetime\n",
    "\n",
    "def clean_df(df):\n",
    "    df = df.dropna(subset=['Date'], how='all')\n",
    "    df = df.fillna('None')\n",
    "    def is_date(s):\n",
    "        if len(s) < 11: return False\n",
    "        return s[0] in '0123456789' and s[4] == '-'\n",
    "    df['is_date'] = df['Date'].map(lambda i: is_date(i))\n",
    "    df = df[df['is_date']==True].iloc[:,:len(df.columns)-1]\n",
    "    date = df['Date'].map(lambda i:datetime.strptime(i[:10].replace('-',''),\"%Y%m%d\"))\n",
    "    data = {'date':list(date),'content':list(df.iloc[:,2]),'location':list(df.iloc[:,3]),'num_likes':list(df.iloc[:,4])}\n",
    "\n",
    "    return pd.DataFrame(data)\n",
    "    \n",
    "\n",
    "def is_not_english(s):\n",
    "    spec_char_count = 0\n",
    "    for char in s:\n",
    "        if not (48<=ord(char)<=57 or 65<=ord(char)<=90 or 97<=ord(char)<=122): spec_char_count+=1\n",
    "        #if ord(u\"\\u30a0\")<=ord(char)<=ord(u\"\\u30ff\") or ord(u\"\\u2e80\")<=ord(char)<=ord(u\"\\u2eff\"): spec_char_count+=1\n",
    "        if spec_char_count/len(s) > 0.5: return True\n",
    "    return False\n",
    "\n",
    "def remove_(s):\n",
    "    s = s.replace('\\n',' ') # remove \\n signs\n",
    "    while 'https://' in s:\n",
    "        start_idx = s.index('https://')\n",
    "        if ' ' in s[start_idx:]:\n",
    "            end_idx = s[start_idx:].index(' ')\n",
    "            s = s[:start_idx] + s[start_idx+end_idx:]\n",
    "        else:\n",
    "            s = s[:start_idx]\n",
    "    return s\n",
    "            \n",
    "def data_clean(df):\n",
    "    df = clean_df(df)\n",
    "    df.iloc[:,1] = df.iloc[:,1].map(lambda i: remove_(i))\n",
    "    df['is_japanese'] = df['content'].map(lambda i: is_not_english(i))\n",
    "    df = df[df['is_japanese'] == False].reset_index(drop=True)\n",
    "    \n",
    "    return df.iloc[:,:4]"
   ]
  },
  {
   "cell_type": "code",
   "execution_count": 259,
   "metadata": {},
   "outputs": [],
   "source": [
    "data1 = data_clean(data1)\n",
    "data2 = data_clean(data2)\n",
    "data3 = data_clean(data3)"
   ]
  },
  {
   "cell_type": "code",
   "execution_count": 267,
   "metadata": {},
   "outputs": [],
   "source": [
    "data = [data1,data2,data3]"
   ]
  },
  {
   "cell_type": "code",
   "execution_count": 268,
   "metadata": {},
   "outputs": [
    {
     "name": "stdout",
     "output_type": "stream",
     "text": [
      "2021.03\n",
      "2021.04\n",
      "2021.05\n",
      "2021.06\n",
      "2021.07\n",
      "2021.08\n",
      "2021.09\n",
      "2021.10\n",
      "2021.11\n"
     ]
    },
    {
     "name": "stderr",
     "output_type": "stream",
     "text": [
      "/opt/anaconda3/envs/py38/lib/python3.8/site-packages/IPython/core/interactiveshell.py:3444: DtypeWarning: Columns (0,4) have mixed types.Specify dtype option on import or set low_memory=False.\n",
      "  exec(code_obj, self.user_global_ns, self.user_ns)\n"
     ]
    },
    {
     "name": "stdout",
     "output_type": "stream",
     "text": [
      "2021.12\n",
      "2022.01\n"
     ]
    },
    {
     "name": "stderr",
     "output_type": "stream",
     "text": [
      "/opt/anaconda3/envs/py38/lib/python3.8/site-packages/IPython/core/interactiveshell.py:3444: DtypeWarning: Columns (4) have mixed types.Specify dtype option on import or set low_memory=False.\n",
      "  exec(code_obj, self.user_global_ns, self.user_ns)\n"
     ]
    },
    {
     "name": "stdout",
     "output_type": "stream",
     "text": [
      "2022.02\n",
      "2022.03\n",
      "2022.04\n",
      "2022.05\n"
     ]
    }
   ],
   "source": [
    "months = ['2021.03','2021.04','2021.05','2021.06','2021.07','2021.08','2021.09','2021.10','2021.11','2021.12','2022.01','2022.02','2022.03','2022.04','2022.05']\n",
    "\n",
    "for month in months:\n",
    "    month_data = pd.read_csv('Twitter_Data/{}.csv'.format(month),lineterminator=\"\\n\")\n",
    "    print(month)\n",
    "    data.append(data_clean(month_data))\n",
    "\n",
    "data = pd.concat(data,axis=0)\n",
    "data = data.sort_values(by='date').reset_index(drop=True)"
   ]
  },
  {
   "cell_type": "code",
   "execution_count": 237,
   "metadata": {},
   "outputs": [],
   "source": [
    "data.to_csv('twitter_alldata_cleaned.csv',line_terminator='\\n')"
   ]
  },
  {
   "cell_type": "code",
   "execution_count": 269,
   "metadata": {},
   "outputs": [
    {
     "name": "stdout",
     "output_type": "stream",
     "text": [
      "<class 'pandas.core.frame.DataFrame'>\n",
      "RangeIndex: 1935564 entries, 0 to 1935563\n",
      "Data columns (total 4 columns):\n",
      " #   Column     Dtype         \n",
      "---  ------     -----         \n",
      " 0   date       datetime64[ns]\n",
      " 1   content    object        \n",
      " 2   location   object        \n",
      " 3   num_likes  object        \n",
      "dtypes: datetime64[ns](1), object(3)\n",
      "memory usage: 59.1+ MB\n"
     ]
    }
   ],
   "source": [
    "data.info()"
   ]
  },
  {
   "cell_type": "code",
   "execution_count": 270,
   "metadata": {},
   "outputs": [
    {
     "data": {
      "text/html": [
       "<div>\n",
       "<style scoped>\n",
       "    .dataframe tbody tr th:only-of-type {\n",
       "        vertical-align: middle;\n",
       "    }\n",
       "\n",
       "    .dataframe tbody tr th {\n",
       "        vertical-align: top;\n",
       "    }\n",
       "\n",
       "    .dataframe thead th {\n",
       "        text-align: right;\n",
       "    }\n",
       "</style>\n",
       "<table border=\"1\" class=\"dataframe\">\n",
       "  <thead>\n",
       "    <tr style=\"text-align: right;\">\n",
       "      <th></th>\n",
       "      <th>date</th>\n",
       "      <th>content</th>\n",
       "      <th>location</th>\n",
       "      <th>num_likes</th>\n",
       "    </tr>\n",
       "  </thead>\n",
       "  <tbody>\n",
       "    <tr>\n",
       "      <th>0</th>\n",
       "      <td>2018-03-02</td>\n",
       "      <td>Axie Infinity: Terrarium Ethereum-Based Crypto...</td>\n",
       "      <td>Blockchain</td>\n",
       "      <td>0</td>\n",
       "    </tr>\n",
       "    <tr>\n",
       "      <th>1</th>\n",
       "      <td>2018-03-05</td>\n",
       "      <td>I just published “You ready to reveal your Axi...</td>\n",
       "      <td>discord.gg/axie</td>\n",
       "      <td>1</td>\n",
       "    </tr>\n",
       "    <tr>\n",
       "      <th>2</th>\n",
       "      <td>2018-03-14</td>\n",
       "      <td>DAppブラウザーアプリ\"Cipher Browser\"に、ゲームが一挙5タイトル追加。  ...</td>\n",
       "      <td>None</td>\n",
       "      <td>9</td>\n",
       "    </tr>\n",
       "    <tr>\n",
       "      <th>3</th>\n",
       "      <td>2018-03-16</td>\n",
       "      <td>@AxieInfinity is proud to be listed in @Cipher...</td>\n",
       "      <td>discord.gg/axie</td>\n",
       "      <td>0</td>\n",
       "    </tr>\n",
       "    <tr>\n",
       "      <th>4</th>\n",
       "      <td>2018-03-17</td>\n",
       "      <td>“You ready to reveal your Axies?” by @AxieInfi...</td>\n",
       "      <td>None</td>\n",
       "      <td>0</td>\n",
       "    </tr>\n",
       "    <tr>\n",
       "      <th>...</th>\n",
       "      <td>...</td>\n",
       "      <td>...</td>\n",
       "      <td>...</td>\n",
       "      <td>...</td>\n",
       "    </tr>\n",
       "    <tr>\n",
       "      <th>1935559</th>\n",
       "      <td>2022-05-04</td>\n",
       "      <td>@peeps026 @Axie44 @AxieInfinity Just awesome!</td>\n",
       "      <td>None</td>\n",
       "      <td>0</td>\n",
       "    </tr>\n",
       "    <tr>\n",
       "      <th>1935560</th>\n",
       "      <td>2022-05-04</td>\n",
       "      <td>@AxieLima @AxieInfinity 馃槓</td>\n",
       "      <td>None</td>\n",
       "      <td>0</td>\n",
       "    </tr>\n",
       "    <tr>\n",
       "      <th>1935561</th>\n",
       "      <td>2022-05-04</td>\n",
       "      <td>@lexicus143 @AxieInfinity Agree with this. Whe...</td>\n",
       "      <td>None</td>\n",
       "      <td>0</td>\n",
       "    </tr>\n",
       "    <tr>\n",
       "      <th>1935562</th>\n",
       "      <td>2022-05-04</td>\n",
       "      <td>@Axie_Chompx4 @AxieInfinity @ChompSquadAxie I'...</td>\n",
       "      <td>New York, USA</td>\n",
       "      <td>6</td>\n",
       "    </tr>\n",
       "    <tr>\n",
       "      <th>1935563</th>\n",
       "      <td>2022-05-04</td>\n",
       "      <td>#AxieInfinity is one of the most popular names...</td>\n",
       "      <td>None</td>\n",
       "      <td>1</td>\n",
       "    </tr>\n",
       "  </tbody>\n",
       "</table>\n",
       "<p>1935564 rows × 4 columns</p>\n",
       "</div>"
      ],
      "text/plain": [
       "              date                                            content  \\\n",
       "0       2018-03-02  Axie Infinity: Terrarium Ethereum-Based Crypto...   \n",
       "1       2018-03-05  I just published “You ready to reveal your Axi...   \n",
       "2       2018-03-14  DAppブラウザーアプリ\"Cipher Browser\"に、ゲームが一挙5タイトル追加。  ...   \n",
       "3       2018-03-16  @AxieInfinity is proud to be listed in @Cipher...   \n",
       "4       2018-03-17  “You ready to reveal your Axies?” by @AxieInfi...   \n",
       "...            ...                                                ...   \n",
       "1935559 2022-05-04      @peeps026 @Axie44 @AxieInfinity Just awesome!   \n",
       "1935560 2022-05-04                         @AxieLima @AxieInfinity 馃槓   \n",
       "1935561 2022-05-04  @lexicus143 @AxieInfinity Agree with this. Whe...   \n",
       "1935562 2022-05-04  @Axie_Chompx4 @AxieInfinity @ChompSquadAxie I'...   \n",
       "1935563 2022-05-04  #AxieInfinity is one of the most popular names...   \n",
       "\n",
       "                location num_likes  \n",
       "0             Blockchain         0  \n",
       "1        discord.gg/axie         1  \n",
       "2                   None         9  \n",
       "3        discord.gg/axie         0  \n",
       "4                   None         0  \n",
       "...                  ...       ...  \n",
       "1935559             None         0  \n",
       "1935560             None         0  \n",
       "1935561             None         0  \n",
       "1935562    New York, USA         6  \n",
       "1935563             None         1  \n",
       "\n",
       "[1935564 rows x 4 columns]"
      ]
     },
     "execution_count": 270,
     "metadata": {},
     "output_type": "execute_result"
    }
   ],
   "source": [
    "data"
   ]
  },
  {
   "cell_type": "code",
   "execution_count": 205,
   "metadata": {},
   "outputs": [],
   "source": [
    "import json\n",
    "keywords = []\n",
    "\n",
    "for y in ['2018','2019','2020','2021','2022']:\n",
    "    for m in ['Jan','Feb','Mar','Apr','May','Jun','Jul','Aug','Sep','Oct','Nov','Dec']:\n",
    "        keyword = {}\n",
    "        keyword['name'] = '{}.{}.{}'.format(y,m,'Axie')\n",
    "        keyword['size'] = 100\n",
    "        keyword['imports'] = []\n",
    "        keywords.append(keyword)\n",
    "\n",
    "json.dump(keywords,open('twitter.json','w'),indent=4)"
   ]
  },
  {
   "cell_type": "code",
   "execution_count": 230,
   "metadata": {},
   "outputs": [
    {
     "data": {
      "text/plain": [
       "False"
      ]
     },
     "execution_count": 230,
     "metadata": {},
     "output_type": "execute_result"
    }
   ],
   "source": [
    "'に' in '[a-zA-Z0-9]'"
   ]
  },
  {
   "cell_type": "code",
   "execution_count": 247,
   "metadata": {},
   "outputs": [
    {
     "data": {
      "text/plain": [
       "False"
      ]
     },
     "execution_count": 247,
     "metadata": {},
     "output_type": "execute_result"
    }
   ],
   "source": [
    "ord(u\"\\u30a0\")<=ord('に')<=ord(u\"\\u30ff\") #or ord(u\"\\u2e80\")<=ord('に')<=ord(u\"\\u2eff\")"
   ]
  },
  {
   "cell_type": "code",
   "execution_count": 248,
   "metadata": {},
   "outputs": [
    {
     "data": {
      "text/plain": [
       "12395"
      ]
     },
     "execution_count": 248,
     "metadata": {},
     "output_type": "execute_result"
    }
   ],
   "source": [
    "ord('に')"
   ]
  },
  {
   "cell_type": "code",
   "execution_count": 249,
   "metadata": {},
   "outputs": [
    {
     "data": {
      "text/plain": [
       "97"
      ]
     },
     "execution_count": 249,
     "metadata": {},
     "output_type": "execute_result"
    }
   ],
   "source": [
    "ord('a')"
   ]
  },
  {
   "cell_type": "code",
   "execution_count": 250,
   "metadata": {},
   "outputs": [
    {
     "data": {
      "text/plain": [
       "122"
      ]
     },
     "execution_count": 250,
     "metadata": {},
     "output_type": "execute_result"
    }
   ],
   "source": [
    "ord('z')"
   ]
  },
  {
   "cell_type": "code",
   "execution_count": 251,
   "metadata": {},
   "outputs": [
    {
     "data": {
      "text/plain": [
       "48"
      ]
     },
     "execution_count": 251,
     "metadata": {},
     "output_type": "execute_result"
    }
   ],
   "source": [
    "ord('0')"
   ]
  },
  {
   "cell_type": "code",
   "execution_count": 252,
   "metadata": {},
   "outputs": [
    {
     "data": {
      "text/plain": [
       "57"
      ]
     },
     "execution_count": 252,
     "metadata": {},
     "output_type": "execute_result"
    }
   ],
   "source": [
    "ord('9')"
   ]
  },
  {
   "cell_type": "code",
   "execution_count": 253,
   "metadata": {},
   "outputs": [
    {
     "data": {
      "text/plain": [
       "65"
      ]
     },
     "execution_count": 253,
     "metadata": {},
     "output_type": "execute_result"
    }
   ],
   "source": [
    "ord('A')"
   ]
  },
  {
   "cell_type": "code",
   "execution_count": 254,
   "metadata": {},
   "outputs": [
    {
     "data": {
      "text/plain": [
       "90"
      ]
     },
     "execution_count": 254,
     "metadata": {},
     "output_type": "execute_result"
    }
   ],
   "source": [
    "ord('Z')"
   ]
  },
  {
   "cell_type": "code",
   "execution_count": null,
   "metadata": {},
   "outputs": [],
   "source": [
    "if not (48<=ord(char)<=57 or 65<=ord(char)<=90 or 97<=ord(char)<=122):"
   ]
  }
 ],
 "metadata": {
  "interpreter": {
   "hash": "64bcadabe4cd61f3d117ba0da9d14bf2f8e35582ff79e821f2e71056f2723d1e"
  },
  "kernelspec": {
   "display_name": "Python 3.8.12 ('py38')",
   "language": "python",
   "name": "python3"
  },
  "language_info": {
   "codemirror_mode": {
    "name": "ipython",
    "version": 3
   },
   "file_extension": ".py",
   "mimetype": "text/x-python",
   "name": "python",
   "nbconvert_exporter": "python",
   "pygments_lexer": "ipython3",
   "version": "3.8.12"
  },
  "orig_nbformat": 4
 },
 "nbformat": 4,
 "nbformat_minor": 2
}
